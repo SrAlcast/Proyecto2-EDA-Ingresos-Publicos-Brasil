{
 "cells": [
  {
   "cell_type": "code",
   "execution_count": 2,
   "metadata": {},
   "outputs": [],
   "source": [
    "import pandas as pd\n",
    "from tqdm import tqdm"
   ]
  },
  {
   "cell_type": "markdown",
   "metadata": {},
   "source": [
    "Lectura de archivos CSV"
   ]
  },
  {
   "cell_type": "code",
   "execution_count": 3,
   "metadata": {},
   "outputs": [
    {
     "name": "stderr",
     "output_type": "stream",
     "text": [
      "100%|██████████| 9/9 [00:04<00:00,  2.19it/s]\n"
     ]
    }
   ],
   "source": [
    "# Lista de rutas de los archivos CSV\n",
    "Listarutas = [\n",
    "    '../datos/base/datos-2013.csv', '../datos/base/datos-2014.csv', '../datos/base/datos-2015.csv',\n",
    "    '../datos/base/datos-2016.csv', '../datos/base/datos-2017.csv', '../datos/base/datos-2018.csv',\n",
    "    '../datos/base/datos-2019.csv', '../datos/base/datos-2020.csv', '../datos/base/datos-2021.csv'\n",
    "]\n",
    "\n",
    "# Cargar cada archivo en un DataFrame y ajustar el delimitador\n",
    "listadfs = []\n",
    "for ruta in tqdm(Listarutas):\n",
    "    try:\n",
    "        df = pd.read_csv(ruta, delimiter=';', on_bad_lines='skip')\n",
    "        listadfs.append(df)\n",
    "    except:\n",
    "        print(f\"Error al cargar {ruta}\")\n"
   ]
  },
  {
   "cell_type": "markdown",
   "metadata": {},
   "source": [
    "Unir dfs y eliminar nulos y duplicados"
   ]
  },
  {
   "cell_type": "code",
   "execution_count": 4,
   "metadata": {},
   "outputs": [],
   "source": [
    "# Unir todos los DataFrames\n",
    "df_unido = pd.concat(listadfs, ignore_index=True)"
   ]
  },
  {
   "cell_type": "code",
   "execution_count": 5,
   "metadata": {},
   "outputs": [
    {
     "data": {
      "text/plain": [
       "(1026299, 16)"
      ]
     },
     "execution_count": 5,
     "metadata": {},
     "output_type": "execute_result"
    }
   ],
   "source": [
    "df_unido.shape "
   ]
  },
  {
   "cell_type": "code",
   "execution_count": 6,
   "metadata": {},
   "outputs": [
    {
     "name": "stdout",
     "output_type": "stream",
     "text": [
      "CÓDIGO ÓRGÃO SUPERIOR         30359\n",
      "NOME ÓRGÃO SUPERIOR          359206\n",
      "CÓDIGO ÓRGÃO                  25117\n",
      "NOME ÓRGÃO                    34887\n",
      "CÓDIGO UNIDADE GESTORA        33581\n",
      "NOME UNIDADE GESTORA          19481\n",
      "CATEGORIA ECONÔMICA           18978\n",
      "ORIGEM RECEITA                38418\n",
      "ESPÉCIE RECEITA               31927\n",
      "DETALHAMENTO                  29337\n",
      "VALOR PREVISTO ATUALIZADO     51315\n",
      "VALOR LANÇADO                 26419\n",
      "VALOR REALIZADO               39465\n",
      "PERCENTUAL REALIZADO          24134\n",
      "DATA LANÇAMENTO               23831\n",
      "ANO EXERCÍCIO                256574\n",
      "dtype: int64\n"
     ]
    }
   ],
   "source": [
    "# Comprobacion valores nulos\n",
    "valores_nulos = df_unido.isnull().sum()\n",
    "print(valores_nulos)"
   ]
  },
  {
   "cell_type": "code",
   "execution_count": 7,
   "metadata": {},
   "outputs": [],
   "source": [
    "# Filtrar columnas \"CÓDIGO ÓRGÃO\" y \"NOME ÓRGÃO\", eliminando nulos y duplicados\n",
    "orgao_df = df_unido[['CÓDIGO ÓRGÃO', 'NOME ÓRGÃO']].dropna().drop_duplicates()\n",
    "\n",
    "# Crear y ordenar el diccionario por \"CÓDIGO ÓRGÃO\"\n",
    "orgao_dict = dict(sorted(zip(orgao_df['CÓDIGO ÓRGÃO'], orgao_df['NOME ÓRGÃO'])))"
   ]
  },
  {
   "cell_type": "code",
   "execution_count": 8,
   "metadata": {},
   "outputs": [],
   "source": [
    "# Creacion de diccionario inverso\n",
    "orgao_inverso_dict = {v: k for k, v in orgao_dict.items()}"
   ]
  },
  {
   "cell_type": "code",
   "execution_count": 9,
   "metadata": {},
   "outputs": [],
   "source": [
    "# Rellenar los valores nulos en base al diccionario creado\n",
    "df_unido['NOME ÓRGÃO'] = df_unido.apply(\n",
    "    lambda row: orgao_dict.get(row['CÓDIGO ÓRGÃO'], row['NOME ÓRGÃO'])\n",
    "    if pd.isnull(row['NOME ÓRGÃO']) else row['NOME ÓRGÃO'],\n",
    "    axis=1\n",
    ")\n",
    "df_unido['CÓDIGO ÓRGÃO'] = df_unido.apply(\n",
    "    lambda row: orgao_inverso_dict.get(row['NOME ÓRGÃO'], row['CÓDIGO ÓRGÃO'])\n",
    "    if pd.isnull(row['CÓDIGO ÓRGÃO']) else row['CÓDIGO ÓRGÃO'],\n",
    "    axis=1\n",
    ")"
   ]
  },
  {
   "cell_type": "code",
   "execution_count": 10,
   "metadata": {},
   "outputs": [],
   "source": [
    "# Filtrar columnas \"CÓDIGO ÓRGÃO SUPERIOR\" y \"NOME ÓRGÃO SUPERIOR\", eliminando nulos y duplicados\n",
    "orgao_superior_df = df_unido[['CÓDIGO ÓRGÃO SUPERIOR', 'NOME ÓRGÃO SUPERIOR']].dropna().drop_duplicates()\n",
    "\n",
    "# Crear y ordenar el diccionario por \"CÓDIGO ÓRGÃO SUPERIOR\"\n",
    "orgao_superior_dict = dict(sorted(zip(orgao_superior_df['CÓDIGO ÓRGÃO SUPERIOR'], orgao_superior_df['NOME ÓRGÃO SUPERIOR'])))"
   ]
  },
  {
   "cell_type": "code",
   "execution_count": 11,
   "metadata": {},
   "outputs": [],
   "source": [
    "# Creacion de diccionario inverso\n",
    "orgao_superior_inverso_dict = {v: k for k, v in orgao_superior_dict.items()}"
   ]
  },
  {
   "cell_type": "code",
   "execution_count": 12,
   "metadata": {},
   "outputs": [],
   "source": [
    "# Rellenar los valores nulos en base al diccionario creado\n",
    "df_unido['NOME ÓRGÃO SUPERIOR'] = df_unido.apply(\n",
    "    lambda row: orgao_superior_dict.get(row['CÓDIGO ÓRGÃO SUPERIOR'], row['NOME ÓRGÃO SUPERIOR'])\n",
    "    if pd.isnull(row['NOME ÓRGÃO SUPERIOR']) else row['NOME ÓRGÃO SUPERIOR'],\n",
    "    axis=1\n",
    ")\n",
    "df_unido['CÓDIGO ÓRGÃO SUPERIOR'] = df_unido.apply(\n",
    "    lambda row: orgao_superior_inverso_dict.get(row['NOME ÓRGÃO SUPERIOR'], row['CÓDIGO ÓRGÃO SUPERIOR'])\n",
    "    if pd.isnull(row['CÓDIGO ÓRGÃO SUPERIOR']) else row['CÓDIGO ÓRGÃO SUPERIOR'],\n",
    "    axis=1\n",
    ")"
   ]
  },
  {
   "cell_type": "code",
   "execution_count": 13,
   "metadata": {},
   "outputs": [],
   "source": [
    "# Filtrar columnas \"CÓDIGO ÓRGÃO SUPERIOR\" y \"NOME ÓRGÃO SUPERIOR\", eliminando nulos y duplicados\n",
    "unidadegestora_df = df_unido[['CÓDIGO UNIDADE GESTORA', 'NOME UNIDADE GESTORA']].dropna().drop_duplicates()\n",
    "\n",
    "# Crear y ordenar el diccionario por \"CÓDIGO ÓRGÃO SUPERIOR\"\n",
    "unidadegestora_dict = dict(sorted(zip(unidadegestora_df['CÓDIGO UNIDADE GESTORA'], unidadegestora_df['NOME UNIDADE GESTORA'])))"
   ]
  },
  {
   "cell_type": "code",
   "execution_count": 14,
   "metadata": {},
   "outputs": [],
   "source": [
    "# Creacion de diccionario inverso\n",
    "unidadegestora_inverso_dict = {v: k for k, v in unidadegestora_dict.items()}\n"
   ]
  },
  {
   "cell_type": "code",
   "execution_count": 15,
   "metadata": {},
   "outputs": [],
   "source": [
    "# Rellenar los valores nulos en base al diccionario creado\n",
    "df_unido['NOME UNIDADE GESTORA'] = df_unido.apply(\n",
    "    lambda row: unidadegestora_dict.get(row['CÓDIGO UNIDADE GESTORA'], row['NOME UNIDADE GESTORA'])\n",
    "    if pd.isnull(row['NOME UNIDADE GESTORA']) else row['NOME UNIDADE GESTORA'],\n",
    "    axis=1\n",
    ")\n",
    "df_unido['CÓDIGO UNIDADE GESTORA'] = df_unido.apply(\n",
    "    lambda row: unidadegestora_inverso_dict.get(row['NOME UNIDADE GESTORA'], row['CÓDIGO UNIDADE GESTORA'])\n",
    "    if pd.isnull(row['CÓDIGO UNIDADE GESTORA']) else row['CÓDIGO UNIDADE GESTORA'],\n",
    "    axis=1\n",
    ")"
   ]
  },
  {
   "cell_type": "code",
   "execution_count": 16,
   "metadata": {},
   "outputs": [
    {
     "name": "stderr",
     "output_type": "stream",
     "text": [
      "C:\\Users\\alexc\\AppData\\Local\\Temp\\ipykernel_19696\\580477305.py:2: UserWarning: Parsing dates in %d/%m/%Y format when dayfirst=False (the default) was specified. Pass `dayfirst=True` or specify a format to silence this warning.\n",
      "  df_unido['DATA LANÇAMENTO'] = pd.to_datetime(df_unido['DATA LANÇAMENTO'], errors='coerce')\n"
     ]
    }
   ],
   "source": [
    "# Cambiar la columna 'DATA LANÇAMENTO' a formato de fecha\n",
    "df_unido['DATA LANÇAMENTO'] = pd.to_datetime(df_unido['DATA LANÇAMENTO'], errors='coerce')\n",
    "\n",
    "# Rellenar los valores nulos en 'ANO EXERCÍCIO' con el año de 'DATA LANÇAMENTO'\n",
    "df_unido['ANO EXERCÍCIO'] = df_unido['ANO EXERCÍCIO'].fillna(df_unido['DATA LANÇAMENTO'].dt.year)\n",
    "\n",
    "# Rellenar cualquier nulo restante en 'ANO EXERCÍCIO' con un 0\n",
    "df_unido['ANO EXERCÍCIO'] = df_unido['ANO EXERCÍCIO'].fillna(0).astype(int)\n",
    "\n",
    "# Borrar los datos con valor 0 an 'ANO EXERCICIO'\n",
    "df_unido = df_unido[df_unido['ANO EXERCÍCIO'] != 0]"
   ]
  },
  {
   "cell_type": "code",
   "execution_count": 17,
   "metadata": {},
   "outputs": [
    {
     "data": {
      "text/plain": [
       "array([2013, 2014, 2015, 2016, 2017, 2018, 2019, 2020, 2021])"
      ]
     },
     "execution_count": 17,
     "metadata": {},
     "output_type": "execute_result"
    }
   ],
   "source": [
    "df_unido['ANO EXERCÍCIO'].unique()"
   ]
  },
  {
   "cell_type": "code",
   "execution_count": 18,
   "metadata": {},
   "outputs": [
    {
     "name": "stdout",
     "output_type": "stream",
     "text": [
      "CÓDIGO ÓRGÃO SUPERIOR        10482\n",
      "NOME ÓRGÃO SUPERIOR          10482\n",
      "CÓDIGO ÓRGÃO                   900\n",
      "NOME ÓRGÃO                     900\n",
      "CÓDIGO UNIDADE GESTORA         608\n",
      "NOME UNIDADE GESTORA           608\n",
      "CATEGORIA ECONÔMICA          18876\n",
      "ORIGEM RECEITA               38226\n",
      "ESPÉCIE RECEITA              31721\n",
      "DETALHAMENTO                 29174\n",
      "VALOR PREVISTO ATUALIZADO    51026\n",
      "VALOR LANÇADO                26272\n",
      "VALOR REALIZADO              39216\n",
      "PERCENTUAL REALIZADO         23997\n",
      "DATA LANÇAMENTO              17902\n",
      "ANO EXERCÍCIO                    0\n",
      "dtype: int64\n"
     ]
    }
   ],
   "source": [
    "valores_nulos = df_unido.isnull().sum()\n",
    "print(valores_nulos)"
   ]
  },
  {
   "cell_type": "code",
   "execution_count": 19,
   "metadata": {},
   "outputs": [
    {
     "name": "stdout",
     "output_type": "stream",
     "text": [
      "Duplicados eliminados: 108\n",
      "Nulos eliminados: 300390\n"
     ]
    }
   ],
   "source": [
    "# Contar duplicados y nulos antes de eliminarlos\n",
    "duplicados_antes = df_unido.duplicated().sum()\n",
    "nulos_antes = df_unido.isnull().sum().sum()\n",
    "\n",
    "# Eliminar duplicados y valores nulos\n",
    "df_unido.drop_duplicates(inplace=True)\n",
    "df_unido.dropna(inplace=True)\n",
    "\n",
    "# Contar duplicados y nulos después de la eliminación\n",
    "duplicados_despues = df_unido.duplicated().sum()\n",
    "nulos_despues = df_unido.isnull().sum().sum()\n",
    "\n",
    "# Calcular la diferencia para ver cuántos se eliminaron\n",
    "duplicados_eliminados = duplicados_antes - duplicados_despues\n",
    "nulos_eliminados = nulos_antes - nulos_despues\n",
    "\n",
    "print(f\"Duplicados eliminados: {duplicados_eliminados}\")\n",
    "print(f\"Nulos eliminados: {nulos_eliminados}\")"
   ]
  },
  {
   "cell_type": "code",
   "execution_count": 20,
   "metadata": {},
   "outputs": [
    {
     "name": "stdout",
     "output_type": "stream",
     "text": [
      "CÓDIGO ÓRGÃO SUPERIOR        0\n",
      "NOME ÓRGÃO SUPERIOR          0\n",
      "CÓDIGO ÓRGÃO                 0\n",
      "NOME ÓRGÃO                   0\n",
      "CÓDIGO UNIDADE GESTORA       0\n",
      "NOME UNIDADE GESTORA         0\n",
      "CATEGORIA ECONÔMICA          0\n",
      "ORIGEM RECEITA               0\n",
      "ESPÉCIE RECEITA              0\n",
      "DETALHAMENTO                 0\n",
      "VALOR PREVISTO ATUALIZADO    0\n",
      "VALOR LANÇADO                0\n",
      "VALOR REALIZADO              0\n",
      "PERCENTUAL REALIZADO         0\n",
      "DATA LANÇAMENTO              0\n",
      "ANO EXERCÍCIO                0\n",
      "dtype: int64\n"
     ]
    }
   ],
   "source": [
    "valores_nulos = df_unido.isnull().sum()\n",
    "print(valores_nulos)"
   ]
  },
  {
   "cell_type": "code",
   "execution_count": 21,
   "metadata": {},
   "outputs": [
    {
     "data": {
      "text/plain": [
       "(765639, 16)"
      ]
     },
     "execution_count": 21,
     "metadata": {},
     "output_type": "execute_result"
    }
   ],
   "source": [
    "df_unido.shape"
   ]
  },
  {
   "cell_type": "markdown",
   "metadata": {},
   "source": [
    "Traducir columnas del df unido"
   ]
  },
  {
   "cell_type": "code",
   "execution_count": 24,
   "metadata": {},
   "outputs": [],
   "source": [
    "# Traducción de los nombres de las columnas al español\n",
    "columnas_traducidas = {\n",
    "    'CÓDIGO ÓRGÃO SUPERIOR': 'CODIGO_ORGANO_SUPERIOR',\n",
    "    'NOME ÓRGÃO SUPERIOR': 'NOMBRE_ORGANO_SUPERIOR',\n",
    "    'CÓDIGO ÓRGÃO': 'CODIGO_ORGANO',\n",
    "    'NOME ÓRGÃO': 'NOMBRE_ORGANO',\n",
    "    'CÓDIGO UNIDADE GESTORA': 'CODIGO_UNIDAD_GESTORA',\n",
    "    'NOME UNIDADE GESTORA': 'NOMBRE_UNIDAD_GESTORA',\n",
    "    'CATEGORIA ECONÔMICA': 'CATEGORIA_ECONOMICA',\n",
    "    'ORIGEM RECEITA': 'ORIGEN_INGRESO',\n",
    "    'ESPÉCIE RECEITA': 'TIPO_INGRESO',\n",
    "    'DETALHAMENTO': 'DETALLE',\n",
    "    'VALOR PREVISTO ATUALIZADO': 'VALOR_PREVISTO_ACTUALIZADO',\n",
    "    'VALOR LANÇADO': 'VALOR_LANZADO',\n",
    "    'VALOR REALIZADO': 'VALOR_REALIZADO',\n",
    "    'PERCENTUAL REALIZADO': 'PORCENTAJE_REALIZADO',\n",
    "    'DATA LANÇAMENTO': 'FECHA_LANZAMIENTO',\n",
    "    'ANO EXERCÍCIO': 'AÑO_EJERCICIO'\n",
    "}\n",
    "\n",
    "df_unido.rename(columns=columnas_traducidas, inplace=True)"
   ]
  },
  {
   "cell_type": "markdown",
   "metadata": {},
   "source": [
    "Guardar csv unido"
   ]
  },
  {
   "cell_type": "code",
   "execution_count": 23,
   "metadata": {},
   "outputs": [],
   "source": [
    "# Guardar el DataFrame final en un archivo CSV\n",
    "df_unido.to_csv('../datos/result/datos_brasil_unificado.csv', index=False)"
   ]
  },
  {
   "cell_type": "code",
   "execution_count": 27,
   "metadata": {},
   "outputs": [],
   "source": [
    "# Calcular los índices de corte\n",
    "split_index1 = len(df_unido) // 3\n",
    "split_index2 = 2 * len(df_unido) // 3\n",
    "\n",
    "# Dividir en tres partes\n",
    "df1 = df_unido.iloc[:split_index1]\n",
    "df2 = df_unido.iloc[split_index1:split_index2]\n",
    "df3 = df_unido.iloc[split_index2:]"
   ]
  },
  {
   "cell_type": "code",
   "execution_count": 29,
   "metadata": {},
   "outputs": [],
   "source": [
    "# Guardar 3 csv para subir a Git\n",
    "df1.to_csv('../datos/result/datos_brasil_unificado_1.csv', index=False)\n",
    "df2.to_csv('../datos/result/datos_brasil_unificado_2.csv', index=False)\n",
    "df3.to_csv('../datos/result/datos_brasil_unificado_3.csv', index=False)"
   ]
  }
 ],
 "metadata": {
  "kernelspec": {
   "display_name": "Python 3",
   "language": "python",
   "name": "python3"
  },
  "language_info": {
   "codemirror_mode": {
    "name": "ipython",
    "version": 3
   },
   "file_extension": ".py",
   "mimetype": "text/x-python",
   "name": "python",
   "nbconvert_exporter": "python",
   "pygments_lexer": "ipython3",
   "version": "3.12.7"
  }
 },
 "nbformat": 4,
 "nbformat_minor": 2
}
